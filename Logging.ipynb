{
  "metadata": {
    "kernelspec": {
      "name": "python",
      "display_name": "Python (Pyodide)",
      "language": "python"
    },
    "language_info": {
      "codemirror_mode": {
        "name": "ipython",
        "version": 3
      },
      "file_extension": ".py",
      "mimetype": "text/x-python",
      "name": "python",
      "nbconvert_exporter": "python",
      "pygments_lexer": "ipython3",
      "version": "3.12.0"
    }
  },
  "nbformat_minor": 4,
  "nbformat": 4,
  "cells": [
    {
      "cell_type": "markdown",
      "source": "#### Python Logging\nLogging is a crucial aspect of any application, providing a way to track events, errors, and operational information. Python's built-in logging module offers a flexible framework for emitting log messages from Python programs. In this lesson, we will cover the basics of logging, including how to configure logging, log levels, and best practices for using logging in Python applications.",
      "metadata": {}
    },
    {
      "cell_type": "code",
      "source": "import logging\n\n## Configure the basic logging settings\nlogging.basicConfig(level=logging.DEBUG)\n\n## log messages with different severity levels\nlogging.debug(\"This is a debug message\")\nlogging.info(\"This is an info message\")\nlogging.warning(\"This is a warning message\")\nlogging.error(\"This is an error message\")\nlogging.critical(\"This is a critical message\")\n\n",
      "metadata": {
        "trusted": true
      },
      "outputs": [],
      "execution_count": null
    },
    {
      "cell_type": "markdown",
      "source": "#### Log Levels\nPython's logging module has several log levels indicating the severity of events. The default levels are:\n\n- DEBUG: Detailed information, typically of interest only when diagnosing problems.\n- INFO: Confirmation that things are working as expected.\n- WARNING: An indication that something unexpected happened or indicative of some problem in the near future (e.g., ‘disk space low’). The software is still working as expected.\n- ERROR: Due to a more serious problem, the software has not been able to perform some function.\n- CRITICAL: A very serious error, indicating that the program itself may be unable to continue running.",
      "metadata": {}
    },
    {
      "cell_type": "code",
      "source": "\n## configuring logging\nimport logging\n\nlogging.basicConfig(\n    filename='app.log',\n    filemode='w',\n    level=logging.DEBUG,\n    format='%(asctime)s-%(name)s-%(levelname)s-%(message)s',\n    datefmt='%Y-%m-%d %H:%M:%S'\n    )\n\n## log messages with different severity levels\nlogging.debug(\"This is a debug message\")\nlogging.info(\"This is an info message\")\nlogging.warning(\"This is a warning message\")\nlogging.error(\"This is an error message\")\nlogging.critical(\"This is a critical message\")",
      "metadata": {
        "trusted": true
      },
      "outputs": [],
      "execution_count": null
    },
    {
      "cell_type": "code",
      "source": "logging.debug(\"This is a debug message\")\nlogging.info(\"This is an info message\")\nlogging.warning(\"This is a warning message\")\nlogging.error(\"This is an error message\")\nlogging.critical(\"This is a critical message\")",
      "metadata": {
        "trusted": true
      },
      "outputs": [],
      "execution_count": null
    },
    {
      "cell_type": "code",
      "source": "",
      "metadata": {
        "trusted": true
      },
      "outputs": [],
      "execution_count": null
    },
    {
      "cell_type": "code",
      "source": "",
      "metadata": {
        "trusted": true
      },
      "outputs": [],
      "execution_count": null
    },
    {
      "cell_type": "code",
      "source": "",
      "metadata": {
        "trusted": true
      },
      "outputs": [],
      "execution_count": null
    }
  ]
}